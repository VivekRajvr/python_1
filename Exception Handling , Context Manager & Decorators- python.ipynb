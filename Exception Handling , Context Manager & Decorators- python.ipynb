{
 "cells": [
  {
   "cell_type": "markdown",
   "id": "fd092068",
   "metadata": {},
   "source": [
    "# Execption Handling"
   ]
  },
  {
   "cell_type": "code",
   "execution_count": 7,
   "id": "bad9c2ae",
   "metadata": {},
   "outputs": [
    {
     "name": "stdout",
     "output_type": "stream",
     "text": [
      "67\n",
      "89\n"
     ]
    }
   ],
   "source": [
    "list = [1,2,3,4,5,67,89]\n",
    "try :\n",
    "    for value in list :\n",
    "        if (value>20):\n",
    "            print(value)\n",
    "except :\n",
    "    print(\"An Error Occured\")"
   ]
  },
  {
   "cell_type": "code",
   "execution_count": 5,
   "id": "6a366596",
   "metadata": {},
   "outputs": [
    {
     "name": "stdout",
     "output_type": "stream",
     "text": [
      "1\n",
      "2\n",
      "3\n",
      "4\n",
      "5\n"
     ]
    }
   ],
   "source": [
    "list = [1,2,3,4,5,67,89]\n",
    "try :\n",
    "    for value in list :\n",
    "        if value<20 :\n",
    "            print(value)\n",
    "except :\n",
    "    print(\"An Error Occured\")"
   ]
  },
  {
   "cell_type": "code",
   "execution_count": 8,
   "id": "5bb9a973",
   "metadata": {},
   "outputs": [
    {
     "name": "stdout",
     "output_type": "stream",
     "text": [
      "4.0\n",
      "An Error occured\n",
      "Partial Work is don\n"
     ]
    }
   ],
   "source": [
    "try:\n",
    "    x = (4/1)\n",
    "    print(x)\n",
    "    y = (1/0)\n",
    "    print(y)\n",
    "except :\n",
    "    print(\"An Error occured\")\n",
    "finally :\n",
    "    print(\"Partial Work is don\")"
   ]
  },
  {
   "cell_type": "markdown",
   "id": "7781df71",
   "metadata": {},
   "source": [
    "# Context Manager"
   ]
  },
  {
   "cell_type": "code",
   "execution_count": 1,
   "id": "325bdbe0",
   "metadata": {},
   "outputs": [
    {
     "name": "stdout",
     "output_type": "stream",
     "text": [
      "This is a Python.\n",
      "This is a High level Language.\n",
      "It is an interpreter language.\n",
      "It is a OOP(Object oriented Programming)\n"
     ]
    }
   ],
   "source": [
    "myfile = open(\"file.txt\", \"r\")\n",
    "print(myfile.read())"
   ]
  },
  {
   "cell_type": "code",
   "execution_count": 6,
   "id": "305cc646",
   "metadata": {},
   "outputs": [
    {
     "data": {
      "text/plain": [
       "12"
      ]
     },
     "execution_count": 6,
     "metadata": {},
     "output_type": "execute_result"
    }
   ],
   "source": [
    "myfile = open(\"flle.txt\", \"w\")\n",
    "myfile.write(\"Hello Python\")"
   ]
  },
  {
   "cell_type": "code",
   "execution_count": 8,
   "id": "b9c47089",
   "metadata": {},
   "outputs": [
    {
     "name": "stdout",
     "output_type": "stream",
     "text": [
      "This is a Python.\n",
      "This is a High level Language.\n",
      "It is an interpreter language.\n",
      "It is a OOP(Object oriented Programming)\n"
     ]
    }
   ],
   "source": [
    "myfile = open(\"file.txt\", \"r\")\n",
    "print(myfile.read())"
   ]
  },
  {
   "cell_type": "code",
   "execution_count": 12,
   "id": "7b3fcf75",
   "metadata": {},
   "outputs": [],
   "source": [
    "with open(\"file.txt\", \"a\") as fileone :\n",
    "    fileone.write(\"\\nHello Python\")"
   ]
  },
  {
   "cell_type": "code",
   "execution_count": 13,
   "id": "af9475e5",
   "metadata": {},
   "outputs": [
    {
     "name": "stdout",
     "output_type": "stream",
     "text": [
      "This is a Python.\n",
      "This is a High level Language.\n",
      "It is an interpreter language.\n",
      "It is a OOP(Object oriented Programming)Hello Python\n",
      "Hello Python\n"
     ]
    }
   ],
   "source": [
    "with open(\"file.txt\", \"r\") as fileone :\n",
    "    print(fileone.read())"
   ]
  },
  {
   "cell_type": "markdown",
   "id": "4a3ea0b0",
   "metadata": {},
   "source": [
    "# Python decorators "
   ]
  },
  {
   "cell_type": "code",
   "execution_count": 14,
   "id": "a23f8c02",
   "metadata": {},
   "outputs": [
    {
     "name": "stdout",
     "output_type": "stream",
     "text": [
      "Hi Everyone\n"
     ]
    }
   ],
   "source": [
    "def data():\n",
    "    print(\"Hi Everyone\")\n",
    "data()"
   ]
  },
  {
   "cell_type": "code",
   "execution_count": 15,
   "id": "161265e1",
   "metadata": {},
   "outputs": [
    {
     "name": "stdout",
     "output_type": "stream",
     "text": [
      "Hi Everyone\n"
     ]
    }
   ],
   "source": [
    "details = data()"
   ]
  },
  {
   "cell_type": "code",
   "execution_count": 17,
   "id": "4e92604c",
   "metadata": {},
   "outputs": [
    {
     "data": {
      "text/plain": [
       "21"
      ]
     },
     "execution_count": 17,
     "metadata": {},
     "output_type": "execute_result"
    }
   ],
   "source": [
    "def increment(num1):\n",
    "    return num1+1 \n",
    "def decrement(num1):\n",
    "    return num1-1\n",
    "decrement(22)"
   ]
  },
  {
   "cell_type": "code",
   "execution_count": 18,
   "id": "b1864be5",
   "metadata": {},
   "outputs": [
    {
     "data": {
      "text/plain": [
       "29"
      ]
     },
     "execution_count": 18,
     "metadata": {},
     "output_type": "execute_result"
    }
   ],
   "source": [
    "increment(28)"
   ]
  },
  {
   "cell_type": "code",
   "execution_count": 19,
   "id": "f1c7bf4b",
   "metadata": {},
   "outputs": [
    {
     "data": {
      "text/plain": [
       "9"
      ]
     },
     "execution_count": 19,
     "metadata": {},
     "output_type": "execute_result"
    }
   ],
   "source": [
    "def incdec(func, num1): #Fuction storing function as a parameter.\n",
    "    result = func(num1) # storing function in variable 'result'\n",
    "    return result\n",
    "incdec(increment, 8) "
   ]
  }
 ],
 "metadata": {
  "kernelspec": {
   "display_name": "Python 3 (ipykernel)",
   "language": "python",
   "name": "python3"
  },
  "language_info": {
   "codemirror_mode": {
    "name": "ipython",
    "version": 3
   },
   "file_extension": ".py",
   "mimetype": "text/x-python",
   "name": "python",
   "nbconvert_exporter": "python",
   "pygments_lexer": "ipython3",
   "version": "3.7.7"
  }
 },
 "nbformat": 4,
 "nbformat_minor": 5
}
